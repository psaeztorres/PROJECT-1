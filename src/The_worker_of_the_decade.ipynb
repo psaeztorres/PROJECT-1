{
 "cells": [
  {
   "cell_type": "markdown",
   "id": "0aa17bc9",
   "metadata": {},
   "source": [
    "### <u>Question: the worker of the decade??</u>\n",
    "who was the investigator with highes reports per decade.\n",
    "\n",
    "1-create a subset with the investigator/year. Clean all the data (NaN, and investigator names. Investigators with less than 1 report are not evaluated)\n",
    "\n",
    "2- First we will see the reports/decade to see if it makes sense use decades or maybe we have to increase the baskets\n",
    "\n",
    "3-find out who was the top reporter of the decade\n"
   ]
  },
  {
   "cell_type": "code",
   "execution_count": 142,
   "id": "a93576a6",
   "metadata": {},
   "outputs": [],
   "source": [
    "import numpy as np\n",
    "import pandas as pd\n",
    "import seaborn as sns\n",
    "import matplotlib.pyplot as plt\n",
    "import re\n",
    "import pycountry"
   ]
  },
  {
   "cell_type": "code",
   "execution_count": 143,
   "id": "4af8dd77",
   "metadata": {},
   "outputs": [],
   "source": [
    "final_sharks = pd.read_csv(\"../data/final_sharks.csv\")"
   ]
  },
  {
   "cell_type": "code",
   "execution_count": 144,
   "id": "73e52b33",
   "metadata": {},
   "outputs": [],
   "source": [
    "pd.set_option('display.max_columns', None)"
   ]
  },
  {
   "cell_type": "code",
   "execution_count": 145,
   "id": "8fc497bd",
   "metadata": {},
   "outputs": [
    {
     "data": {
      "text/plain": [
       "Index(['Unnamed: 0', 'Type', 'Country', 'Area', 'Location', 'Activity', 'Name',\n",
       "       'Sex ', 'Age', 'Injury', 'Fatal (Y/N)', 'Time', 'Species ',\n",
       "       'Investigator or Source', 'pdf', 'href formula', 'href',\n",
       "       'original order', 'year_c', 'month_c', 'day_c', 'Act_class', 'date_c',\n",
       "       'day_of_week'],\n",
       "      dtype='object')"
      ]
     },
     "execution_count": 145,
     "metadata": {},
     "output_type": "execute_result"
    }
   ],
   "source": [
    "final_sharks.columns"
   ]
  },
  {
   "cell_type": "code",
   "execution_count": 146,
   "id": "1db13543",
   "metadata": {},
   "outputs": [
    {
     "data": {
      "text/plain": [
       "Investigator or Source\n",
       "C. Moore, GSAF                                                       84\n",
       "C. Creswell, GSAF                                                    80\n",
       "S. Petersohn, GSAF                                                   79\n",
       "R. Collier                                                           54\n",
       "R. Collier, GSAF                                                     48\n",
       "                                                                     ..\n",
       "Miami Herald, 5/18/1997                                               1\n",
       "O. Gadig; Globo, 4/24/1997                                            1\n",
       "J. Delvecchio & D. Sygall, Sydney Morning Herald, 2/4/1997, p.2       1\n",
       "Sunday Mail (QLD), 1/26/1997, p.2; Hobart Mercury, 1/27/1997, p.2     1\n",
       "S.W. Baker                                                            1\n",
       "Name: count, Length: 4630, dtype: int64"
      ]
     },
     "execution_count": 146,
     "metadata": {},
     "output_type": "execute_result"
    }
   ],
   "source": [
    "final_sharks['Investigator or Source'].value_counts()"
   ]
  },
  {
   "cell_type": "code",
   "execution_count": 147,
   "id": "70a6b194",
   "metadata": {},
   "outputs": [],
   "source": [
    "investigator1 = final_sharks[['Investigator or Source' , 'year_c']]"
   ]
  },
  {
   "cell_type": "code",
   "execution_count": 148,
   "id": "7f4e2ad1",
   "metadata": {},
   "outputs": [],
   "source": [
    "investigator1 = investigator1.dropna(how='any')\n"
   ]
  },
  {
   "cell_type": "code",
   "execution_count": 149,
   "id": "861a4ca7",
   "metadata": {},
   "outputs": [
    {
     "data": {
      "text/plain": [
       "Investigator or Source    0\n",
       "year_c                    0\n",
       "dtype: int64"
      ]
     },
     "execution_count": 149,
     "metadata": {},
     "output_type": "execute_result"
    }
   ],
   "source": [
    "investigator1.isna().sum()"
   ]
  },
  {
   "cell_type": "code",
   "execution_count": 150,
   "id": "1abb31f2",
   "metadata": {},
   "outputs": [
    {
     "data": {
      "text/html": [
       "<div>\n",
       "<style scoped>\n",
       "    .dataframe tbody tr th:only-of-type {\n",
       "        vertical-align: middle;\n",
       "    }\n",
       "\n",
       "    .dataframe tbody tr th {\n",
       "        vertical-align: top;\n",
       "    }\n",
       "\n",
       "    .dataframe thead th {\n",
       "        text-align: right;\n",
       "    }\n",
       "</style>\n",
       "<table border=\"1\" class=\"dataframe\">\n",
       "  <thead>\n",
       "    <tr style=\"text-align: right;\">\n",
       "      <th></th>\n",
       "      <th>Investigator or Source</th>\n",
       "      <th>year_c</th>\n",
       "    </tr>\n",
       "  </thead>\n",
       "  <tbody>\n",
       "    <tr>\n",
       "      <th>529</th>\n",
       "      <td>Facebook.com</td>\n",
       "      <td>2014.0</td>\n",
       "    </tr>\n",
       "  </tbody>\n",
       "</table>\n",
       "</div>"
      ],
      "text/plain": [
       "    Investigator or Source  year_c\n",
       "529           Facebook.com  2014.0"
      ]
     },
     "execution_count": 150,
     "metadata": {},
     "output_type": "execute_result"
    }
   ],
   "source": [
    "investigator1.sample()"
   ]
  },
  {
   "cell_type": "code",
   "execution_count": 151,
   "id": "096ea906",
   "metadata": {},
   "outputs": [
    {
     "data": {
      "text/plain": [
       "(5634, 2)"
      ]
     },
     "execution_count": 151,
     "metadata": {},
     "output_type": "execute_result"
    }
   ],
   "source": [
    "investigator1.shape"
   ]
  },
  {
   "cell_type": "code",
   "execution_count": 152,
   "id": "dcf92b25",
   "metadata": {},
   "outputs": [],
   "source": [
    "investigator1 = investigator1.drop_duplicates()"
   ]
  },
  {
   "cell_type": "code",
   "execution_count": 153,
   "id": "577e2183",
   "metadata": {},
   "outputs": [],
   "source": [
    "investigador2 = investigator1[investigator1['Investigator or Source'].duplicated(keep=False)]"
   ]
  },
  {
   "cell_type": "code",
   "execution_count": 154,
   "id": "c19c2a65",
   "metadata": {},
   "outputs": [
    {
     "data": {
      "text/plain": [
       "(611, 2)"
      ]
     },
     "execution_count": 154,
     "metadata": {},
     "output_type": "execute_result"
    }
   ],
   "source": [
    "investigator2.shape"
   ]
  },
  {
   "cell_type": "code",
   "execution_count": 155,
   "id": "cd75c332",
   "metadata": {
    "scrolled": false
   },
   "outputs": [
    {
     "data": {
      "text/plain": [
       "Investigator or Source\n",
       "C. Moore, GSAF                                              81\n",
       "M. Levine, GSAF                                             36\n",
       "R. Collier, GSAF                                            34\n",
       "C. Creswell, GSAF                                           27\n",
       "S. Petersohn, GSAF                                          17\n",
       "                                                            ..\n",
       "A. De Maddalena; Perfetti (1989), M. Zuffa (pers. Comm.)     2\n",
       "S. Combs                                                     2\n",
       "E.Pace, FSAF                                                 2\n",
       "C. Johannson, GSAF                                           2\n",
       "P. Tichener                                                  2\n",
       "Name: count, Length: 134, dtype: int64"
      ]
     },
     "execution_count": 155,
     "metadata": {},
     "output_type": "execute_result"
    }
   ],
   "source": [
    "investigator2['Investigator or Source'].value_counts()"
   ]
  },
  {
   "cell_type": "code",
   "execution_count": 156,
   "id": "299ba9c8",
   "metadata": {},
   "outputs": [],
   "source": [
    "investigator2['Investigator or Source']= investigator2['Investigator or Source'].replace(\" \", \"\")"
   ]
  },
  {
   "cell_type": "code",
   "execution_count": 157,
   "id": "d59e5216",
   "metadata": {},
   "outputs": [],
   "source": [
    "investigator2['Investigator or Source']= investigator2['Investigator or Source'].replace(\"C. Moore. GSAF\", \"C. Moore, GSAF\")"
   ]
  },
  {
   "cell_type": "code",
   "execution_count": 158,
   "id": "a88f9d3f",
   "metadata": {},
   "outputs": [],
   "source": [
    "investigator2['Investigator or Source']= investigator2['Investigator or Source'].replace(\"R. Collier\", \"R. Collier, GSAF\")"
   ]
  },
  {
   "cell_type": "code",
   "execution_count": 159,
   "id": "6b72daae",
   "metadata": {},
   "outputs": [],
   "source": [
    "investigator2['Investigator or Source']= investigator2['Investigator or Source'].replace(\"C.Moore, GSAF\", \"C. Moore, GSAF\")"
   ]
  },
  {
   "cell_type": "code",
   "execution_count": 160,
   "id": "411502b6",
   "metadata": {},
   "outputs": [],
   "source": [
    "investigator2['Investigator or Source']= investigator2['Investigator or Source'].replace(\"S. Petersohn\", \"S. Petersohn, GSAF\")"
   ]
  },
  {
   "cell_type": "code",
   "execution_count": 161,
   "id": "f26a989e",
   "metadata": {},
   "outputs": [],
   "source": [
    "investigator2['Investigator or Source']= investigator2['Investigator or Source'].replace(\"J. Borg, p.74; L. Taylor (1993), pp.102-103 \", \"J. Borg\")"
   ]
  },
  {
   "cell_type": "code",
   "execution_count": 162,
   "id": "7e371ba3",
   "metadata": {},
   "outputs": [],
   "source": [
    "investigator2['Investigator or Source']= investigator2['Investigator or Source'].replace(\"J. Borg, p.74; L. Taylor (1993), pp.104-105\" , \"J. Borg\")"
   ]
  },
  {
   "cell_type": "markdown",
   "id": "c7e80b65",
   "metadata": {},
   "source": [
    "investigator2['Investigator or Source']= investigator2['Investigator or Source'].replace(\"J. Borg, p.74; L. Taylor (1993), pp.104-105\" , \"J. Borg\")"
   ]
  },
  {
   "cell_type": "code",
   "execution_count": 163,
   "id": "5f8e84f1",
   "metadata": {},
   "outputs": [],
   "source": [
    "investigator2['Investigator or Source']= investigator2['Investigator or Source'].replace(\"J. Borg, p.76; L. Taylor (1993), pp.106-107\" , \"J. Borg\")"
   ]
  },
  {
   "cell_type": "code",
   "execution_count": 164,
   "id": "4ac43c2f",
   "metadata": {},
   "outputs": [],
   "source": [
    "investigator2['Investigator or Source']= investigator2['Investigator or Source'].replace(\"T. Wallett, p.27\" , \"T. Wallett\")"
   ]
  },
  {
   "cell_type": "code",
   "execution_count": 165,
   "id": "77d5f1f5",
   "metadata": {},
   "outputs": [
    {
     "data": {
      "text/plain": [
       "Investigator or Source\n",
       "C. Moore, GSAF                                     81\n",
       "M. Levine, GSAF                                    36\n",
       "R. Collier, GSAF                                   34\n",
       "C. Creswell, GSAF                                  27\n",
       "S. Petersohn, GSAF                                 17\n",
       "GSAF                                               15\n",
       "J. Borg                                            13\n",
       "E. Ritter, GSAF                                    13\n",
       "T. Peake, GSAF                                     12\n",
       "E. Pace, FSAF                                      11\n",
       "G. Van Grevelynghe                                  9\n",
       "M. Vorenberg, GSAF                                  9\n",
       "R.D. Weeks, GSAF                                    9\n",
       "C. Black, GSAF                                      9\n",
       "A. Gifford, GSAF                                    9\n",
       "JCOnline                                            8\n",
       "MEDSAF                                              7\n",
       "W. Leander                                          7\n",
       "T. Wallett                                          6\n",
       "Y. Choi & K. Nakaya                                 6\n",
       "Hawaii Department of Land and Natural Resources     6\n",
       "G. Cliff, NSB                                       5\n",
       "B. Myatt, GSAF                                      5\n",
       "M. Szpilman                                         5\n",
       "D. Duarte                                           4\n",
       "M. Bardanis                                         4\n",
       "Clicanoo, le journal  de l'Ile de la Réunion        4\n",
       "C. Johansson, GSAF                                  4\n",
       "G. Kubota, Star Bulletin                            3\n",
       "E. M. Burton                                        3\n",
       "O. Gadig                                            3\n",
       "V.M. Coppleson (1958), p.242                        3\n",
       "G.P. Whitley, p.264                                 3\n",
       "A. Bleakley;  A. M. Rapson, p.148                   3\n",
       "M. Hosina                                           3\n",
       "K. Nakaya                                           3\n",
       "Press clippings                                     3\n",
       "C.G. Robles                                         3\n",
       "D. Davies; M. Levine, GSAF                          3\n",
       "D. Davies                                           3\n",
       "S. Trape                                            3\n",
       "B.W. Coad & L.A.J. Al-Hassan                        3\n",
       "J. Green, p.36                                      3\n",
       "A.M. Rapson, p.150                                  3\n",
       "A. Sharpe, p.134                                    3\n",
       "J. Eager, scubaradio.com                            3\n",
       "C. Eksander, GSAF                                   3\n",
       "Associated Press                                    3\n",
       "R. Collier, GSAF                                    3\n",
       "Clay Creswell, GSAF                                 3\n",
       "Name: count, dtype: int64"
      ]
     },
     "execution_count": 165,
     "metadata": {},
     "output_type": "execute_result"
    }
   ],
   "source": [
    "investigator2['Investigator or Source'].value_counts().head(50)"
   ]
  },
  {
   "cell_type": "code",
   "execution_count": 184,
   "id": "ad208cb4",
   "metadata": {},
   "outputs": [
    {
     "data": {
      "text/plain": [
       "[Text(0, 0.5, 'nº reports')]"
      ]
     },
     "execution_count": 184,
     "metadata": {},
     "output_type": "execute_result"
    },
    {
     "data": {
      "image/png": "[encoded data removed]",
      "text/plain": [
       "<Figure size 640x480 with 1 Axes>"
      ]
     },
     "metadata": {},
     "output_type": "display_data"
    }
   ],
   "source": [
    "plot1=sns.histplot(x=investigator2.year_c,bins=15)\n",
    "plt.title('reports / year')\n",
    "plot1.set(ylabel=\"nº reports\")"
   ]
  },
  {
   "cell_type": "code",
   "execution_count": 167,
   "id": "0c0ad3d9",
   "metadata": {},
   "outputs": [],
   "source": [
    "###after the barplot it is clear that we'd better divide it in three groups of 20 yares starting in 1960"
   ]
  },
  {
   "cell_type": "code",
   "execution_count": 171,
   "id": "da943cd0",
   "metadata": {},
   "outputs": [
    {
     "data": {
      "text/html": [
       "<div>\n",
       "<style scoped>\n",
       "    .dataframe tbody tr th:only-of-type {\n",
       "        vertical-align: middle;\n",
       "    }\n",
       "\n",
       "    .dataframe tbody tr th {\n",
       "        vertical-align: top;\n",
       "    }\n",
       "\n",
       "    .dataframe thead th {\n",
       "        text-align: right;\n",
       "    }\n",
       "</style>\n",
       "<table border=\"1\" class=\"dataframe\">\n",
       "  <thead>\n",
       "    <tr style=\"text-align: right;\">\n",
       "      <th></th>\n",
       "      <th>Investigator or Source</th>\n",
       "      <th>year_c</th>\n",
       "    </tr>\n",
       "  </thead>\n",
       "  <tbody>\n",
       "    <tr>\n",
       "      <th>0</th>\n",
       "      <td>R. Collier, GSAF</td>\n",
       "      <td>2018.0</td>\n",
       "    </tr>\n",
       "    <tr>\n",
       "      <th>3</th>\n",
       "      <td>B. Myatt, GSAF</td>\n",
       "      <td>2018.0</td>\n",
       "    </tr>\n",
       "    <tr>\n",
       "      <th>11</th>\n",
       "      <td>C. Creswell, GSAF</td>\n",
       "      <td>2018.0</td>\n",
       "    </tr>\n",
       "    <tr>\n",
       "      <th>44</th>\n",
       "      <td>TrackingSharks.com</td>\n",
       "      <td>2018.0</td>\n",
       "    </tr>\n",
       "    <tr>\n",
       "      <th>53</th>\n",
       "      <td>R. Collier, GSAF</td>\n",
       "      <td>2017.0</td>\n",
       "    </tr>\n",
       "  </tbody>\n",
       "</table>\n",
       "</div>"
      ],
      "text/plain": [
       "   Investigator or Source  year_c\n",
       "0        R. Collier, GSAF  2018.0\n",
       "3          B. Myatt, GSAF  2018.0\n",
       "11      C. Creswell, GSAF  2018.0\n",
       "44     TrackingSharks.com  2018.0\n",
       "53       R. Collier, GSAF  2017.0"
      ]
     },
     "execution_count": 171,
     "metadata": {},
     "output_type": "execute_result"
    }
   ],
   "source": [
    "investigator2.head()"
   ]
  },
  {
   "cell_type": "code",
   "execution_count": 172,
   "id": "bb7a34e6",
   "metadata": {
    "scrolled": true
   },
   "outputs": [
    {
     "data": {
      "text/plain": [
       "2018.0"
      ]
     },
     "execution_count": 172,
     "metadata": {},
     "output_type": "execute_result"
    }
   ],
   "source": [
    "investigador2['year_c'].max()"
   ]
  },
  {
   "cell_type": "markdown",
   "id": "ff64a909",
   "metadata": {},
   "source": [
    "### we create a function to introduce a year and get the top investigator for the next 20 years\n",
    "it is retuning us the top investigator as well as how many reports done during those 20 years"
   ]
  },
  {
   "cell_type": "code",
   "execution_count": 179,
   "id": "8268635c",
   "metadata": {},
   "outputs": [],
   "source": [
    "def top_investigator(year):\n",
    "    \"\"\"This function, when introduced a year, returns the name of the name of the investigator with more reports \n",
    "    publish during the next 20 years starting from the year introduced\"\"\"\n",
    "    cond1=investigador2['year_c'] >= year\n",
    "    cond2=investigador2['year_c'] < (year +20)\n",
    "    df=investigador2[(cond1) & (cond2)] \n",
    "    top_inv = df['Investigator or Source'].value_counts().head(1)\n",
    "    return top_inv"
   ]
  },
  {
   "cell_type": "code",
   "execution_count": 180,
   "id": "2be48ec7",
   "metadata": {},
   "outputs": [
    {
     "data": {
      "text/plain": [
       "Investigator or Source\n",
       "M. Levine, GSAF    10\n",
       "Name: count, dtype: int64"
      ]
     },
     "execution_count": 180,
     "metadata": {},
     "output_type": "execute_result"
    }
   ],
   "source": [
    "top_investigator(1960)"
   ]
  },
  {
   "cell_type": "code",
   "execution_count": 181,
   "id": "81eef0c7",
   "metadata": {},
   "outputs": [
    {
     "data": {
      "text/plain": [
       "Investigator or Source\n",
       "A. Gifford, GSAF    8\n",
       "Name: count, dtype: int64"
      ]
     },
     "execution_count": 181,
     "metadata": {},
     "output_type": "execute_result"
    }
   ],
   "source": [
    "top_investigator(1980)"
   ]
  },
  {
   "cell_type": "code",
   "execution_count": 182,
   "id": "37c1348e",
   "metadata": {},
   "outputs": [
    {
     "data": {
      "text/plain": [
       "Investigator or Source\n",
       "C. Creswell, GSAF    17\n",
       "Name: count, dtype: int64"
      ]
     },
     "execution_count": 182,
     "metadata": {},
     "output_type": "execute_result"
    }
   ],
   "source": [
    "top_investigator(2000)"
   ]
  }
 ],
 "metadata": {
  "kernelspec": {
   "display_name": "ironhack",
   "language": "python",
   "name": "ironhack"
  },
  "language_info": {
   "codemirror_mode": {
    "name": "ipython",
    "version": 3
   },
   "file_extension": ".py",
   "mimetype": "text/x-python",
   "name": "python",
   "nbconvert_exporter": "python",
   "pygments_lexer": "ipython3",
   "version": "3.11.5"
  }
 },
 "nbformat": 4,
 "nbformat_minor": 5
}
